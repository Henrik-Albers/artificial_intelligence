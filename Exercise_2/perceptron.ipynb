{
 "cells": [
  {
   "cell_type": "markdown",
   "metadata": {},
   "source": [
    "# Perceptron\n",
    "Group work from\n",
    "Aaya Bougrine, \n",
    "Henrik Albers, \n",
    "Katharina Thöne."
   ]
  },
  {
   "cell_type": "code",
   "execution_count": 1,
   "metadata": {},
   "outputs": [],
   "source": [
    "import numpy as np"
   ]
  },
  {
   "cell_type": "markdown",
   "metadata": {},
   "source": [
    "## Generate Data"
   ]
  },
  {
   "cell_type": "code",
   "execution_count": 2,
   "metadata": {},
   "outputs": [
    {
     "ename": "TypeError",
     "evalue": "'list' object cannot be interpreted as an integer",
     "output_type": "error",
     "traceback": [
      "\u001b[1;31m---------------------------------------------------------------------------\u001b[0m",
      "\u001b[1;31mTypeError\u001b[0m                                 Traceback (most recent call last)",
      "\u001b[1;32mc:\\Users\\henri\\Documents\\WS 23 24\\Artificial Intelligence\\artificial_intelligence\\Exercise_2\\perceptron.ipynb Cell 4\u001b[0m line \u001b[0;36m1\n\u001b[1;32m----> <a href='vscode-notebook-cell:/c%3A/Users/henri/Documents/WS%2023%2024/Artificial%20Intelligence/artificial_intelligence/Exercise_2/perceptron.ipynb#W3sZmlsZQ%3D%3D?line=0'>1</a>\u001b[0m \u001b[39minput\u001b[39m \u001b[39m=\u001b[39m np\u001b[39m.\u001b[39;49mndarray([\n\u001b[0;32m      <a href='vscode-notebook-cell:/c%3A/Users/henri/Documents/WS%2023%2024/Artificial%20Intelligence/artificial_intelligence/Exercise_2/perceptron.ipynb#W3sZmlsZQ%3D%3D?line=1'>2</a>\u001b[0m     \u001b[39m# AND           OR              NOR\u001b[39;49;00m\n\u001b[0;32m      <a href='vscode-notebook-cell:/c%3A/Users/henri/Documents/WS%2023%2024/Artificial%20Intelligence/artificial_intelligence/Exercise_2/perceptron.ipynb#W3sZmlsZQ%3D%3D?line=2'>3</a>\u001b[0m     [\u001b[39m0\u001b[39;49m, \u001b[39m0\u001b[39;49m, \u001b[39m1\u001b[39;49m, \u001b[39m1\u001b[39;49m,    \u001b[39m0\u001b[39;49m, \u001b[39m0\u001b[39;49m, \u001b[39m1\u001b[39;49m, \u001b[39m1\u001b[39;49m,     \u001b[39m0\u001b[39;49m, \u001b[39m0\u001b[39;49m, \u001b[39m1\u001b[39;49m, \u001b[39m1\u001b[39;49m],\n\u001b[0;32m      <a href='vscode-notebook-cell:/c%3A/Users/henri/Documents/WS%2023%2024/Artificial%20Intelligence/artificial_intelligence/Exercise_2/perceptron.ipynb#W3sZmlsZQ%3D%3D?line=3'>4</a>\u001b[0m     [\u001b[39m0\u001b[39;49m, \u001b[39m1\u001b[39;49m, \u001b[39m0\u001b[39;49m, \u001b[39m1\u001b[39;49m,    \u001b[39m0\u001b[39;49m, \u001b[39m1\u001b[39;49m, \u001b[39m0\u001b[39;49m, \u001b[39m1\u001b[39;49m,     \u001b[39m0\u001b[39;49m, \u001b[39m1\u001b[39;49m, \u001b[39m0\u001b[39;49m, \u001b[39m1\u001b[39;49m]\n\u001b[0;32m      <a href='vscode-notebook-cell:/c%3A/Users/henri/Documents/WS%2023%2024/Artificial%20Intelligence/artificial_intelligence/Exercise_2/perceptron.ipynb#W3sZmlsZQ%3D%3D?line=4'>5</a>\u001b[0m     ])\n\u001b[0;32m      <a href='vscode-notebook-cell:/c%3A/Users/henri/Documents/WS%2023%2024/Artificial%20Intelligence/artificial_intelligence/Exercise_2/perceptron.ipynb#W3sZmlsZQ%3D%3D?line=5'>6</a>\u001b[0m output \u001b[39m=\u001b[39m np\u001b[39m.\u001b[39mndarray(\n\u001b[0;32m      <a href='vscode-notebook-cell:/c%3A/Users/henri/Documents/WS%2023%2024/Artificial%20Intelligence/artificial_intelligence/Exercise_2/perceptron.ipynb#W3sZmlsZQ%3D%3D?line=6'>7</a>\u001b[0m     \u001b[39m# AND           OR              NOR\u001b[39;00m\n\u001b[0;32m      <a href='vscode-notebook-cell:/c%3A/Users/henri/Documents/WS%2023%2024/Artificial%20Intelligence/artificial_intelligence/Exercise_2/perceptron.ipynb#W3sZmlsZQ%3D%3D?line=7'>8</a>\u001b[0m     [\u001b[39m0\u001b[39m, \u001b[39m0\u001b[39m, \u001b[39m0\u001b[39m, \u001b[39m1\u001b[39m,    \u001b[39m0\u001b[39m, \u001b[39m1\u001b[39m, \u001b[39m1\u001b[39m, \u001b[39m1\u001b[39m,     \u001b[39m1\u001b[39m, \u001b[39m0\u001b[39m, \u001b[39m0\u001b[39m, \u001b[39m0\u001b[39m]\n\u001b[0;32m      <a href='vscode-notebook-cell:/c%3A/Users/henri/Documents/WS%2023%2024/Artificial%20Intelligence/artificial_intelligence/Exercise_2/perceptron.ipynb#W3sZmlsZQ%3D%3D?line=8'>9</a>\u001b[0m     )\n",
      "\u001b[1;31mTypeError\u001b[0m: 'list' object cannot be interpreted as an integer"
     ]
    }
   ],
   "source": [
    "input = np.array([\n",
    "    # AND           OR              NOR\n",
    "    [0, 0, 1, 1,    0, 0, 1, 1,     0, 0, 1, 1],\n",
    "    [0, 1, 0, 1,    0, 1, 0, 1,     0, 1, 0, 1]\n",
    "    ])\n",
    "output = np.array(\n",
    "    # AND           OR              NOR\n",
    "    [0, 0, 0, 1,    0, 1, 1, 1,     1, 0, 0, 0]\n",
    "    )"
   ]
  }
 ],
 "metadata": {
  "kernelspec": {
   "display_name": "Python 3",
   "language": "python",
   "name": "python3"
  },
  "language_info": {
   "codemirror_mode": {
    "name": "ipython",
    "version": 3
   },
   "file_extension": ".py",
   "mimetype": "text/x-python",
   "name": "python",
   "nbconvert_exporter": "python",
   "pygments_lexer": "ipython3",
   "version": "3.10.7"
  },
  "orig_nbformat": 4
 },
 "nbformat": 4,
 "nbformat_minor": 2
}
