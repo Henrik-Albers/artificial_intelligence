{
 "cells": [
  {
   "cell_type": "code",
   "execution_count": 43,
   "metadata": {},
   "outputs": [],
   "source": [
    "# Imports\n",
    "import matplotlib.pyplot as plt\n",
    "import numpy as np\n",
    "import pandas as pd\n",
    "from sklearn.preprocessing import StandardScaler\n",
    "from sklearn.model_selection import train_test_split\n",
    "import tensorflow as tf"
   ]
  },
  {
   "cell_type": "markdown",
   "metadata": {},
   "source": [
    "# Preprocessing data"
   ]
  },
  {
   "cell_type": "code",
   "execution_count": 44,
   "metadata": {},
   "outputs": [
    {
     "name": "stdout",
     "output_type": "stream",
     "text": [
      "        id  clump_thickness  uniform_cell_size  uniform_cell_shape  \\\n",
      "0  1000025                5                  1                   1   \n",
      "1  1002945                5                  4                   4   \n",
      "2  1015425                3                  1                   1   \n",
      "3  1016277                6                  8                   8   \n",
      "4  1017023                4                  1                   1   \n",
      "\n",
      "   marginal_adhesion  single_epi_cell_size bare_nuclei  bland_chromation  \\\n",
      "0                  1                     2           1                 3   \n",
      "1                  5                     7          10                 3   \n",
      "2                  1                     2           2                 3   \n",
      "3                  1                     3           4                 3   \n",
      "4                  3                     2           1                 3   \n",
      "\n",
      "   normal_nucleoli  mitoses  class  \n",
      "0                1        1      2  \n",
      "1                2        1      2  \n",
      "2                1        1      2  \n",
      "3                7        1      2  \n",
      "4                1        1      2  \n",
      "Count of missing data: False    699\n",
      "dtype: int64\n",
      "<class 'pandas.core.frame.DataFrame'>\n",
      "RangeIndex: 699 entries, 0 to 698\n",
      "Data columns (total 11 columns):\n",
      " #   Column                Non-Null Count  Dtype \n",
      "---  ------                --------------  ----- \n",
      " 0   id                    699 non-null    int64 \n",
      " 1   clump_thickness       699 non-null    int64 \n",
      " 2   uniform_cell_size     699 non-null    int64 \n",
      " 3   uniform_cell_shape    699 non-null    int64 \n",
      " 4   marginal_adhesion     699 non-null    int64 \n",
      " 5   single_epi_cell_size  699 non-null    int64 \n",
      " 6   bare_nuclei           699 non-null    object\n",
      " 7   bland_chromation      699 non-null    int64 \n",
      " 8   normal_nucleoli       699 non-null    int64 \n",
      " 9   mitoses               699 non-null    int64 \n",
      " 10  class                 699 non-null    int64 \n",
      "dtypes: int64(10), object(1)\n",
      "memory usage: 60.2+ KB\n",
      "None\n"
     ]
    }
   ],
   "source": [
    "seed = 42\n",
    "# Reading data \n",
    "data = pd.read_csv(\"./breast-cancer.txt\", sep=\",\")\n",
    "print(data.head())\n",
    "\n",
    "# Dropping missing or non numeric values\n",
    "nan_rows = data.isna().any(axis=1)\n",
    "print(\"Count of missing data: \" + str(nan_rows.value_counts()))\n",
    "\n",
    "# Identifying and removing non numeric data\n",
    "print(data.info())\n",
    "data = data.drop(\"bare_nuclei\", axis=1)\n",
    "\n",
    "# Drop id column\n",
    "data = data.drop(\"id\", axis=1)\n",
    "\n",
    "# Create feature and label arrays\n",
    "y = data[\"class\"]\n",
    "X = data.drop(\"class\", axis=1)\n",
    "\n",
    "# Scaling feature matrix\n",
    "sc = StandardScaler()\n",
    "X = sc.fit_transform(X)\n",
    "\n",
    "# Transforming feature vector into bool\n",
    "y = y.replace({2:False, 4:True})\n",
    "\n",
    "# Dividing data into train and test split\n",
    "X_train, X_test, y_train, y_test = train_test_split(X, y, test_size=0.2, random_state=seed)"
   ]
  },
  {
   "cell_type": "markdown",
   "metadata": {},
   "source": [
    "# Creation of Neuronal Network"
   ]
  },
  {
   "cell_type": "code",
   "execution_count": 45,
   "metadata": {},
   "outputs": [
    {
     "name": "stdout",
     "output_type": "stream",
     "text": [
      "Epoch 1/15\n",
      "35/35 [==============================] - 1s 2ms/step - loss: 0.6573 - accuracy: 0.8676\n",
      "Epoch 2/15\n",
      "35/35 [==============================] - 0s 2ms/step - loss: 0.5552 - accuracy: 0.9320\n",
      "Epoch 3/15\n",
      "35/35 [==============================] - 0s 2ms/step - loss: 0.4800 - accuracy: 0.9392\n",
      "Epoch 4/15\n",
      "35/35 [==============================] - 0s 2ms/step - loss: 0.4135 - accuracy: 0.9445\n",
      "Epoch 5/15\n",
      "35/35 [==============================] - 0s 2ms/step - loss: 0.3527 - accuracy: 0.9428\n",
      "Epoch 6/15\n",
      "35/35 [==============================] - 0s 2ms/step - loss: 0.3007 - accuracy: 0.9445\n",
      "Epoch 7/15\n",
      "35/35 [==============================] - 0s 2ms/step - loss: 0.2575 - accuracy: 0.9445\n",
      "Epoch 8/15\n",
      "35/35 [==============================] - 0s 2ms/step - loss: 0.2232 - accuracy: 0.9499\n",
      "Epoch 9/15\n",
      "35/35 [==============================] - 0s 3ms/step - loss: 0.1969 - accuracy: 0.9499\n",
      "Epoch 10/15\n",
      "35/35 [==============================] - 0s 3ms/step - loss: 0.1769 - accuracy: 0.9481\n",
      "Epoch 11/15\n",
      "35/35 [==============================] - 0s 2ms/step - loss: 0.1616 - accuracy: 0.9481\n",
      "Epoch 12/15\n",
      "35/35 [==============================] - 0s 2ms/step - loss: 0.1502 - accuracy: 0.9481\n",
      "Epoch 13/15\n",
      "35/35 [==============================] - 0s 2ms/step - loss: 0.1413 - accuracy: 0.9481\n",
      "Epoch 14/15\n",
      "35/35 [==============================] - 0s 4ms/step - loss: 0.1344 - accuracy: 0.9499\n",
      "Epoch 15/15\n",
      "35/35 [==============================] - 0s 3ms/step - loss: 0.1290 - accuracy: 0.9517\n"
     ]
    },
    {
     "data": {
      "text/plain": [
       "<keras.callbacks.History at 0x18226164130>"
      ]
     },
     "execution_count": 45,
     "metadata": {},
     "output_type": "execute_result"
    }
   ],
   "source": [
    "def get_basic_model():\n",
    "  model = tf.keras.Sequential([\n",
    "    tf.keras.layers.Dense(5, activation='relu'),\n",
    "    tf.keras.layers.Dense(1)\n",
    "  ])\n",
    "\n",
    "  model.compile(optimizer='adam',\n",
    "                loss=tf.keras.losses.BinaryCrossentropy(from_logits=True),\n",
    "                metrics=['accuracy'])\n",
    "  return model\n",
    "\n",
    "model = get_basic_model()\n",
    "model.fit(X_train, y_train, epochs=15, batch_size=16)\n"
   ]
  },
  {
   "cell_type": "code",
   "execution_count": 46,
   "metadata": {},
   "outputs": [
    {
     "name": "stdout",
     "output_type": "stream",
     "text": [
      "5/5 [==============================] - 0s 5ms/step\n"
     ]
    }
   ],
   "source": [
    "def to_bool(x):\n",
    "    if x>=0:\n",
    "        return True\n",
    "    return False\n",
    "\n",
    "predictions = model.predict(X_test)\n",
    "y_test = y_test.reset_index(drop=True)\n",
    "predictions = np.apply_along_axis(to_bool,axis=1, arr=predictions)"
   ]
  },
  {
   "cell_type": "markdown",
   "metadata": {},
   "source": [
    "# Confusion Matrix"
   ]
  },
  {
   "cell_type": "code",
   "execution_count": 47,
   "metadata": {},
   "outputs": [
    {
     "data": {
      "text/plain": [
       "<sklearn.metrics._plot.confusion_matrix.ConfusionMatrixDisplay at 0x18226107970>"
      ]
     },
     "execution_count": 47,
     "metadata": {},
     "output_type": "execute_result"
    },
    {
     "data": {
      "image/png": "[encoded data removed]",
      "text/plain": [
       "<Figure size 640x480 with 2 Axes>"
      ]
     },
     "metadata": {},
     "output_type": "display_data"
    }
   ],
   "source": [
    "from sklearn.metrics import confusion_matrix, ConfusionMatrixDisplay\n",
    "cm_ens = confusion_matrix(y_true=y_test, y_pred=predictions)\n",
    "disp_ens = ConfusionMatrixDisplay(cm_ens)\n",
    "disp_ens.plot()"
   ]
  }
 ],
 "metadata": {
  "kernelspec": {
   "display_name": "Python 3",
   "language": "python",
   "name": "python3"
  },
  "language_info": {
   "codemirror_mode": {
    "name": "ipython",
    "version": 3
   },
   "file_extension": ".py",
   "mimetype": "text/x-python",
   "name": "python",
   "nbconvert_exporter": "python",
   "pygments_lexer": "ipython3",
   "version": "3.10.7"
  },
  "orig_nbformat": 4
 },
 "nbformat": 4,
 "nbformat_minor": 2
}
