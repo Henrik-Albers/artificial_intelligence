{
 "cells": [
  {
   "cell_type": "code",
   "execution_count": 3,
   "metadata": {},
   "outputs": [],
   "source": [
    "import pandas as pd\n",
    "from sklearn.model_selection import train_test_split\n",
    "from sklearn.preprocessing import StandardScaler\n"
   ]
  },
  {
   "cell_type": "markdown",
   "metadata": {},
   "source": [
    "# Preprocessing"
   ]
  },
  {
   "cell_type": "code",
   "execution_count": 6,
   "metadata": {},
   "outputs": [
    {
     "name": "stdout",
     "output_type": "stream",
     "text": [
      "  Date;Time;Global_active_power;Global_reactive_power;Voltage;Global_intensity;Sub_metering_1;Sub_metering_2;Sub_metering_3\n",
      "0  16/12/2006;17:24:00;4.216;0.418;234.840;18.400...                                                                       \n",
      "1  16/12/2006;17:25:00;5.360;0.436;233.630;23.000...                                                                       \n",
      "2  16/12/2006;17:26:00;5.374;0.498;233.290;23.000...                                                                       \n",
      "3  16/12/2006;17:27:00;5.388;0.502;233.740;23.000...                                                                       \n",
      "4  16/12/2006;17:28:00;3.666;0.528;235.680;15.800...                                                                       \n",
      "Count of missing data: False    2075259\n",
      "dtype: int64\n",
      "<class 'pandas.core.frame.DataFrame'>\n",
      "RangeIndex: 2075259 entries, 0 to 2075258\n",
      "Data columns (total 1 columns):\n",
      " #   Column                                                                                                                     Dtype \n",
      "---  ------                                                                                                                     ----- \n",
      " 0   Date;Time;Global_active_power;Global_reactive_power;Voltage;Global_intensity;Sub_metering_1;Sub_metering_2;Sub_metering_3  object\n",
      "dtypes: object(1)\n",
      "memory usage: 15.8+ MB\n",
      "None\n",
      "  Date;Time;Global_active_power;Global_reactive_power;Voltage;Global_intensity;Sub_metering_1;Sub_metering_2;Sub_metering_3\n",
      "0  16/12/2006;17:24:00;4.216;0.418;234.840;18.400...                                                                       \n",
      "1  16/12/2006;17:25:00;5.360;0.436;233.630;23.000...                                                                       \n",
      "2  16/12/2006;17:26:00;5.374;0.498;233.290;23.000...                                                                       \n",
      "3  16/12/2006;17:27:00;5.388;0.502;233.740;23.000...                                                                       \n",
      "4  16/12/2006;17:28:00;3.666;0.528;235.680;15.800...                                                                       \n"
     ]
    }
   ],
   "source": [
    "seed = 42\n",
    "# Reading data \n",
    "data = pd.read_csv(\"./household_power_consumption.txt\", sep=\",\")\n",
    "print(data.head())\n",
    "\n",
    "# Dropping missing or non numeric values\n",
    "nan_rows = data.isna().any(axis=1)\n",
    "print(\"Count of missing data: \" + str(nan_rows.value_counts()))\n",
    "\n",
    "# Identifying and removing non numeric data\n",
    "print(data.info())\n",
    "print(data.head())\n",
    "# data = data.drop(\"Date\", axis=1)\n",
    "\n",
    "# Create feature and label arrays\n",
    "# y = data[\"class\"]\n",
    "# X = data.drop(\"class\", axis=1)\n",
    "\n",
    "# Scaling feature matrix\n",
    "# sc = StandardScaler()\n",
    "# X = sc.fit_transform(X)\n",
    "\n",
    "# Transforming feature vector into bool\n",
    "# y = y.replace({2:False, 4:True})\n",
    "\n",
    "# Dividing data into train and test split\n",
    "# X_train, X_test, y_train, y_test = train_test_split(X, y, test_size=0.2, random_state=seed)"
   ]
  }
 ],
 "metadata": {
  "kernelspec": {
   "display_name": "Python 3",
   "language": "python",
   "name": "python3"
  },
  "language_info": {
   "codemirror_mode": {
    "name": "ipython",
    "version": 3
   },
   "file_extension": ".py",
   "mimetype": "text/x-python",
   "name": "python",
   "nbconvert_exporter": "python",
   "pygments_lexer": "ipython3",
   "version": "3.10.7"
  },
  "orig_nbformat": 4
 },
 "nbformat": 4,
 "nbformat_minor": 2
}
